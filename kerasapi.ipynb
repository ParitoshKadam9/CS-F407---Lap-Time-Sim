{
 "cells": [
  {
   "cell_type": "code",
   "execution_count": 1,
   "metadata": {},
   "outputs": [],
   "source": [
    "import numpy as np\n",
    "from random import randint\n",
    "from sklearn.utils import shuffle\n",
    "from sklearn.preprocessing import MinMaxScaler"
   ]
  },
  {
   "cell_type": "code",
   "execution_count": 2,
   "metadata": {},
   "outputs": [],
   "source": [
    "train_labels = []\n",
    "train_samples = []\n",
    "\n",
    "for i in range(50):\n",
    "    # 5% young folks who did experience the side effects\n",
    "    rand_year = randint(13, 64)\n",
    "    train_samples.append(rand_year)\n",
    "    train_labels.append(1)\n",
    "\n",
    "    # old ppl who didn't get any side effects\n",
    "    rand_year = randint(65, 100)\n",
    "    train_samples.append(rand_year)\n",
    "    train_labels.append(0)\n",
    "\n",
    "for i in range(1000):\n",
    "    #baccha log who didn't experience any side effects\n",
    "    rand_year = randint(13, 64)\n",
    "    train_samples.append(rand_year)\n",
    "    train_labels.append(0)\n",
    "\n",
    "    #unsafe old people\n",
    "    rand_year = randint(65, 100)\n",
    "    train_samples.append(rand_year)\n",
    "    train_labels.append(1)"
   ]
  },
  {
   "cell_type": "code",
   "execution_count": 3,
   "metadata": {},
   "outputs": [],
   "source": [
    "# making them into numpy arrays\n",
    "\n",
    "train_labels = np.array(train_labels)\n",
    "train_samples = np.array(train_samples)\n",
    "\n",
    "train_labels, train_samples = shuffle(train_labels, train_samples)\n",
    "\n",
    "scaler = MinMaxScaler(feature_range=(0,1))\n",
    "scaled_train_samples = scaler.fit_transform(train_samples.reshape(-1, 1)) #making it a 2d array bcs thats the format accepted by fit_transform\n"
   ]
  },
  {
   "attachments": {},
   "cell_type": "markdown",
   "metadata": {},
   "source": [
    "## simple Sequential model "
   ]
  },
  {
   "cell_type": "code",
   "execution_count": 4,
   "metadata": {},
   "outputs": [],
   "source": [
    "import tensorflow as tf\n",
    "from tensorflow import keras\n",
    "from tensorflow.keras.models import Sequential\n",
    "from tensorflow.keras.layers import Activation, Dense\n",
    "from tensorflow.keras.optimizers import Adam\n",
    "from tensorflow.keras.metrics import categorical_crossentropy"
   ]
  },
  {
   "cell_type": "code",
   "execution_count": 5,
   "metadata": {},
   "outputs": [
    {
     "name": "stdout",
     "output_type": "stream",
     "text": [
      "Model: \"sequential\"\n",
      "_________________________________________________________________\n",
      " Layer (type)                Output Shape              Param #   \n",
      "=================================================================\n",
      " dense (Dense)               (None, 20)                40        \n",
      "                                                                 \n",
      " dense_1 (Dense)             (None, 40)                840       \n",
      "                                                                 \n",
      " dense_2 (Dense)             (None, 2)                 82        \n",
      "                                                                 \n",
      "=================================================================\n",
      "Total params: 962\n",
      "Trainable params: 962\n",
      "Non-trainable params: 0\n",
      "_________________________________________________________________\n"
     ]
    }
   ],
   "source": [
    "model = Sequential(\n",
    "    [\n",
    "        Dense(units = 20, input_shape=(1,), activation='relu'),\n",
    "        Dense(units = 40, activation='relu'),\n",
    "        Dense(units = 2, activation='softmax')\n",
    "    ]\n",
    ")\n",
    "\n",
    "model.summary()"
   ]
  },
  {
   "cell_type": "code",
   "execution_count": 10,
   "metadata": {},
   "outputs": [],
   "source": [
    "model.compile(optimizer=Adam(learning_rate=0.001), loss='sparse_categorical_crossentropy', metrics=['accuracy'])"
   ]
  },
  {
   "cell_type": "code",
   "execution_count": 11,
   "metadata": {},
   "outputs": [
    {
     "name": "stdout",
     "output_type": "stream",
     "text": [
      "Epoch 1/20\n",
      "189/189 - 1s - loss: 0.2263 - accuracy: 0.9455 - val_loss: 0.2514 - val_accuracy: 0.9381 - 842ms/epoch - 4ms/step\n",
      "Epoch 2/20\n",
      "189/189 - 0s - loss: 0.2249 - accuracy: 0.9455 - val_loss: 0.2497 - val_accuracy: 0.9381 - 243ms/epoch - 1ms/step\n",
      "Epoch 3/20\n",
      "189/189 - 0s - loss: 0.2225 - accuracy: 0.9481 - val_loss: 0.2507 - val_accuracy: 0.9429 - 242ms/epoch - 1ms/step\n",
      "Epoch 4/20\n",
      "189/189 - 0s - loss: 0.2224 - accuracy: 0.9471 - val_loss: 0.2475 - val_accuracy: 0.9381 - 259ms/epoch - 1ms/step\n",
      "Epoch 5/20\n",
      "189/189 - 0s - loss: 0.2217 - accuracy: 0.9444 - val_loss: 0.2484 - val_accuracy: 0.9429 - 244ms/epoch - 1ms/step\n",
      "Epoch 6/20\n",
      "189/189 - 0s - loss: 0.2200 - accuracy: 0.9487 - val_loss: 0.2473 - val_accuracy: 0.9429 - 248ms/epoch - 1ms/step\n",
      "Epoch 7/20\n",
      "189/189 - 0s - loss: 0.2183 - accuracy: 0.9492 - val_loss: 0.2454 - val_accuracy: 0.9381 - 262ms/epoch - 1ms/step\n",
      "Epoch 8/20\n",
      "189/189 - 0s - loss: 0.2170 - accuracy: 0.9476 - val_loss: 0.2472 - val_accuracy: 0.9429 - 253ms/epoch - 1ms/step\n",
      "Epoch 9/20\n",
      "189/189 - 0s - loss: 0.2165 - accuracy: 0.9455 - val_loss: 0.2524 - val_accuracy: 0.9190 - 287ms/epoch - 2ms/step\n",
      "Epoch 10/20\n",
      "189/189 - 0s - loss: 0.2156 - accuracy: 0.9471 - val_loss: 0.2505 - val_accuracy: 0.9190 - 277ms/epoch - 1ms/step\n",
      "Epoch 11/20\n",
      "189/189 - 0s - loss: 0.2122 - accuracy: 0.9492 - val_loss: 0.2479 - val_accuracy: 0.9333 - 277ms/epoch - 1ms/step\n",
      "Epoch 12/20\n",
      "189/189 - 0s - loss: 0.2133 - accuracy: 0.9476 - val_loss: 0.2397 - val_accuracy: 0.9429 - 314ms/epoch - 2ms/step\n",
      "Epoch 13/20\n",
      "189/189 - 0s - loss: 0.2126 - accuracy: 0.9481 - val_loss: 0.2413 - val_accuracy: 0.9381 - 264ms/epoch - 1ms/step\n",
      "Epoch 14/20\n",
      "189/189 - 0s - loss: 0.2132 - accuracy: 0.9455 - val_loss: 0.2421 - val_accuracy: 0.9429 - 299ms/epoch - 2ms/step\n",
      "Epoch 15/20\n",
      "189/189 - 0s - loss: 0.2103 - accuracy: 0.9487 - val_loss: 0.2413 - val_accuracy: 0.9429 - 469ms/epoch - 2ms/step\n",
      "Epoch 16/20\n",
      "189/189 - 0s - loss: 0.2098 - accuracy: 0.9503 - val_loss: 0.2458 - val_accuracy: 0.9190 - 476ms/epoch - 3ms/step\n",
      "Epoch 17/20\n",
      "189/189 - 0s - loss: 0.2085 - accuracy: 0.9503 - val_loss: 0.2410 - val_accuracy: 0.9429 - 325ms/epoch - 2ms/step\n",
      "Epoch 18/20\n",
      "189/189 - 0s - loss: 0.2077 - accuracy: 0.9481 - val_loss: 0.2429 - val_accuracy: 0.9429 - 319ms/epoch - 2ms/step\n",
      "Epoch 19/20\n",
      "189/189 - 0s - loss: 0.2084 - accuracy: 0.9487 - val_loss: 0.2395 - val_accuracy: 0.9429 - 305ms/epoch - 2ms/step\n",
      "Epoch 20/20\n",
      "189/189 - 0s - loss: 0.2060 - accuracy: 0.9460 - val_loss: 0.2517 - val_accuracy: 0.9190 - 305ms/epoch - 2ms/step\n"
     ]
    },
    {
     "data": {
      "text/plain": [
       "<keras.callbacks.History at 0x1ff88f2d000>"
      ]
     },
     "execution_count": 11,
     "metadata": {},
     "output_type": "execute_result"
    }
   ],
   "source": [
    "model.fit(x=scaled_train_samples, y=train_labels, validation_split=0.1,batch_size=10, epochs=20, shuffle=True, verbose=2)"
   ]
  }
 ],
 "metadata": {
  "kernelspec": {
   "display_name": "Python 3",
   "language": "python",
   "name": "python3"
  },
  "language_info": {
   "codemirror_mode": {
    "name": "ipython",
    "version": 3
   },
   "file_extension": ".py",
   "mimetype": "text/x-python",
   "name": "python",
   "nbconvert_exporter": "python",
   "pygments_lexer": "ipython3",
   "version": "3.10.5"
  },
  "orig_nbformat": 4
 },
 "nbformat": 4,
 "nbformat_minor": 2
}
