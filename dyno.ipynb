{
 "cells": [
  {
   "cell_type": "code",
   "execution_count": 1,
   "metadata": {},
   "outputs": [],
   "source": [
    "import math"
   ]
  },
  {
   "attachments": {},
   "cell_type": "markdown",
   "metadata": {},
   "source": [
    "We shall address the forces that are exerted in a vehicle (Basic Dynamics)\n",
    "\n",
    "- Wf, Wr = Normal Forces on the tires\n",
    "- Fxf, Fxr = Tractive Forces\n",
    "- Rxf, Rxr = Rolling resistance forces\n",
    "- Da.ha = Aerodynamic pitching\n",
    "- W/g.ax = inertia Force (d'Alembert force)\n",
    "- L = WheelBase\n",
    "- Rh = hitching Forces (if vehicle is experiencing a TOW)\n"
   ]
  },
  {
   "cell_type": "code",
   "execution_count": 2,
   "metadata": {},
   "outputs": [],
   "source": [
    "def FrontTireNormal(W, theta, Da, ha, h, ax, Rhx, Rhz, hh, dh, c,b):\n",
    "    L = c+b\n",
    "    Wf = [W*c*math.cos(theta) - Rhx*hh - Rhz*dh - (W*ax*h)/9.81 -Da*ha - W*h*math.sin(theta)]/L\n",
    "    return Wf"
   ]
  },
  {
   "cell_type": "code",
   "execution_count": null,
   "metadata": {},
   "outputs": [],
   "source": [
    "def RearTireNormal(W, theta, Da, ha, h, ax, Rhx, Rhz, hh, dh, c, b):\n",
    "    L = c+b\n",
    "    Wr = [W*b*math.cos(theta) + Rhx*hh + Rhz*(dh+L) + (W*ax*h) /\n",
    "          9.81 + Da*ha + W*h*math.sin(theta)]/L\n",
    "    return Wr\n"
   ]
  }
 ],
 "metadata": {
  "kernelspec": {
   "display_name": "Python 3",
   "language": "python",
   "name": "python3"
  },
  "language_info": {
   "codemirror_mode": {
    "name": "ipython",
    "version": 3
   },
   "file_extension": ".py",
   "mimetype": "text/x-python",
   "name": "python",
   "nbconvert_exporter": "python",
   "pygments_lexer": "ipython3",
   "version": "3.10.5"
  },
  "orig_nbformat": 4
 },
 "nbformat": 4,
 "nbformat_minor": 2
}
