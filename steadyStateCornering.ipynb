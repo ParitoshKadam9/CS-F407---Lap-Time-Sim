{
 "cells": [
  {
   "attachments": {},
   "cell_type": "markdown",
   "metadata": {},
   "source": [
    "# Steady State Cornering"
   ]
  },
  {
   "attachments": {},
   "cell_type": "markdown",
   "metadata": {},
   "source": [
    "- First step to understanding cornering is to analysing the low-speed turning behaviour of a motor vehicle. (here the tires need not develop lateral forces - therefore roll with no slip angle).\n",
    "\n",
    "- Therefore, the perpendiculars from each of the front wheels should pass through the same point (the center of turn). \n",
    "[if they do not pass through the same point, the front tires will \"fight\" each other in the tirn, with each experiencing some scrub].\n",
    "\n",
    "$$ \\delta_o = L/(R+t/2) $$\n",
    "$$ \\delta_i = L/(R-t/2) $$\n",
    "\n",
    "where, \n",
    "- L -> WheelBase\n",
    "- R -> Radius from the COG to Turn center\n",
    "- t -> length between 2 wheels\n",
    "\n",
    "The average of these is know as *Ackerman Angle* \n",
    "\n",
    "`\n",
    "Errors or deviations from the Ackerman in the left-right steer angles can have a significant influence on front tire wear\n",
    "`\n",
    "- Without Ackerman geometry, the steering torques tend to increase consistently with steer angle, thus providing the driver with a natural feel in the feedback through the steering wheel"
   ]
  },
  {
   "attachments": {},
   "cell_type": "markdown",
   "metadata": {},
   "source": [
    "### High Speed Cornering\n",
    "\n",
    "- There would be ***Lateral Forces*** on the tires\n",
    "- The angle between *direction of heading* and *direction of travel* is known as slip angle $ \\alpha $\n",
    "\n",
    "$$ F_y = C_\\alpha *\\alpha $$\n",
    "\n",
    "- $F_y$ is the cornering force (when the camber angle is zero).\n",
    "- $C_\\alpha$ is the cornering stiffness. (SAE defines it to be -ve of the slop of $F_y$ and $\\alpha$)\n",
    "\n",
    "\n"
   ]
  },
  {
   "attachments": {},
   "cell_type": "markdown",
   "metadata": {},
   "source": [
    "# Engine Output\n"
   ]
  },
  {
   "cell_type": "code",
   "execution_count": null,
   "metadata": {},
   "outputs": [],
   "source": []
  }
 ],
 "metadata": {
  "kernelspec": {
   "display_name": "Python 3",
   "language": "python",
   "name": "python3"
  },
  "language_info": {
   "codemirror_mode": {
    "name": "ipython",
    "version": 3
   },
   "file_extension": ".py",
   "mimetype": "text/x-python",
   "name": "python",
   "nbconvert_exporter": "python",
   "pygments_lexer": "ipython3",
   "version": "3.10.5"
  },
  "orig_nbformat": 4
 },
 "nbformat": 4,
 "nbformat_minor": 2
}
